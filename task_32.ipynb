{
  "nbformat": 4,
  "nbformat_minor": 0,
  "metadata": {
    "colab": {
      "provenance": []
    },
    "kernelspec": {
      "name": "python3",
      "display_name": "Python 3"
    },
    "language_info": {
      "name": "python"
    }
  },
  "cells": [
    {
      "cell_type": "markdown",
      "source": [
        "# Task for SQL DML session\n",
        "\n",
        "Load this dataset in your database and perform below given tasks.\n",
        "\n",
        "DataSet - https://docs.google.com/spreadsheets/d/e/2PACX-1vRa1wWwXmzxEvqITxj4OQTeLywlGTTsOTbhSRqKj2lPuGefjlci-DQhgLBPpgWXe8AAUu2WUBqY59X1/pub?gid=1030172542&single=true&output=csv\n",
        "\n",
        "Look for data description\n",
        "\n",
        "Kaggle - https://www.kaggle.com/datasets/thedevastator/insurance-claim-analysis-demographic-and-health?select=insurance_data.csv"
      ],
      "metadata": {
        "id": "O-kYKh3Z3HoZ"
      }
    },
    {
      "cell_type": "markdown",
      "source": [
        "### Perform the following queries\n",
        "\n",
        "1. Show records of 'male' patient from 'southwest' region.\n",
        "2. Show all records having bmi in range 30 to 45 both inclusive.\n",
        "3. Show minimum and maximum bloodpressure of diabetic patient who smokes. Make column names as MinBP and MaxBP respectively.\n",
        "4. Find no of unique patients who are not from southwest region.\n",
        "5. Total claim amount from male smoker.\n",
        "6. Select all records of south region.\n",
        "7. No of patient having normal blood pressure. Normal range[90-120]\n",
        "8. No of pateint belo 17 years of age having normal blood pressure as per below formula -\n",
        "    - BP normal range = 80+(age in years × 2) to 100 + (age in years × 2)\n",
        "\n",
        "    - Note: Formula taken just for practice, don't take in real sense.\n",
        "9. What is the average claim amount for non-smoking female patients who are diabetic?\n",
        "10. Write a SQL query to update the claim amount for the patient with PatientID = 1234 to 5000.\n",
        "11. Write a SQL query to delete all records for patients who are smokers and have no children.\n"
      ],
      "metadata": {
        "id": "HgeiRIpI3MjR"
      }
    },
    {
      "cell_type": "code",
      "source": [
        "# 1 Show records of 'male' patient from 'southwest' region.\n",
        "select * from insurance_data\n",
        "where gender='male' and region='southwest'\n"
      ],
      "metadata": {
        "id": "56rYZ7bf3IJh"
      },
      "execution_count": null,
      "outputs": []
    },
    {
      "cell_type": "code",
      "source": [
        "# 2 Show all records having bmi in range 30 to 45 both inclusive.\n",
        "select * from insurance_data\n",
        "where bmi between 30 and 45"
      ],
      "metadata": {
        "id": "Pa8qwqu1Uq-0"
      },
      "execution_count": null,
      "outputs": []
    },
    {
      "cell_type": "code",
      "source": [
        "#3 Show minimum and maximum bloodpressure of diabetic patient who smokes. Make column names as MinBP and MaxBP respectively.\n",
        "select min(bloodpressure) as 'MinBP',max(bloodpressure) as 'MAXBP' from insurance_data\n",
        "where smoker='yes'\n"
      ],
      "metadata": {
        "id": "v1WSMybgUrOI"
      },
      "execution_count": null,
      "outputs": []
    },
    {
      "cell_type": "code",
      "source": [
        "# 4Find no of unique patients who are not from southwest region.\n",
        "select * from insurance_data\n",
        "select count(distinct(PatientID)) from insurance_data\n",
        "where region='southwest'"
      ],
      "metadata": {
        "id": "1qSjSNUWUrZU"
      },
      "execution_count": null,
      "outputs": []
    },
    {
      "cell_type": "code",
      "source": [
        "# 5 Total claim amount from male smoker.\n",
        "select sum(claim)  from insurance_data\n",
        "where gender='male' and smoker='yes'"
      ],
      "metadata": {
        "id": "mFZqbSYPUrj0"
      },
      "execution_count": null,
      "outputs": []
    },
    {
      "cell_type": "code",
      "source": [
        "# 6 Select all records of south region.\n",
        "select * from insurance_data\n",
        "where region like 'south%'\n"
      ],
      "metadata": {
        "id": "U4Ei6XxLUrrz"
      },
      "execution_count": null,
      "outputs": []
    },
    {
      "cell_type": "code",
      "source": [
        "# 7 No of patient having normal blood pressure. Normal range[90-120]\n",
        "select * from insurance_data\n",
        "where bloodpressure between 90 and 120"
      ],
      "metadata": {
        "id": "sFJxiehOUrzC"
      },
      "execution_count": null,
      "outputs": []
    },
    {
      "cell_type": "code",
      "source": [
        "# 8 No of pateint belo 17 years of age having normal blood pressure as per below formula -\n",
        "\n",
        "# BP normal range = 80+(age in years × 2) to 100 + (age in years × 2)\n",
        "\n",
        "# Note: Formula taken just for practice, don't take in real sense.\n",
        "select count(*) from insurance_data\n",
        "where age<17\n",
        "and (bloodpressure between 80+(age*2) and 100+(age*2))\n"
      ],
      "metadata": {
        "id": "N0JTmCSjUr52"
      },
      "execution_count": null,
      "outputs": []
    },
    {
      "cell_type": "code",
      "source": [
        "# 9 What is the average claim amount for non-smoking female patients who are diabetic?\n",
        "select avg(claim) from insurance_data\n",
        "where smoker='no' and gender='female' and diabetic='yes'"
      ],
      "metadata": {
        "id": "QL2U2LjcUsAL"
      },
      "execution_count": null,
      "outputs": []
    },
    {
      "cell_type": "code",
      "source": [
        "# 10 Write a SQL query to update the claim amount for the patient with PatientID = 1234 to 5000.\n",
        "update insurance_data set claim=5000\n",
        "where PatientID=1234\n",
        "select * from insurance_data\n",
        "where PatientID=1234"
      ],
      "metadata": {
        "id": "fFVp7QaZUsGr"
      },
      "execution_count": null,
      "outputs": []
    },
    {
      "cell_type": "code",
      "source": [
        "# 11 Write a SQL query to delete all records for patients who are smokers and have no children.\n",
        "delete from  insurance_data\n",
        "where smoker='yes' and children=0\n",
        "\n"
      ],
      "metadata": {
        "id": "p4YQCyJUUsNb"
      },
      "execution_count": null,
      "outputs": []
    }
  ]
}