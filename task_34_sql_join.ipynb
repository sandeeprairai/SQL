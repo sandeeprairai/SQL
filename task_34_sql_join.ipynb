{
  "nbformat": 4,
  "nbformat_minor": 0,
  "metadata": {
    "colab": {
      "provenance": []
    },
    "kernelspec": {
      "name": "python3",
      "display_name": "Python 3"
    },
    "language_info": {
      "name": "python"
    }
  },
  "cells": [
    {
      "cell_type": "markdown",
      "source": [
        "## Freedom Ranking for Different Countries\n",
        "\n",
        "You can get the dataset from [here](https://drive.google.com/drive/folders/1wr0J571rlfexEJ4-de6_tz1QvU-cJ0df?usp=share_link).\n",
        "\n",
        "Some feature details of the dataset:\n",
        "\n",
        "| Feature | Description |\n",
        "| :--: | :-- |\n",
        "| A | Electoral Process |\n",
        "| B | Political Pluralism and Participation |\n",
        "| C | Functioning of Government |\n",
        "| D | Freedom of Expression and Belief |\n",
        "| E | Associational and Organizational Rights |\n",
        "| F | Rule of Law |\n",
        "| G | Personal Autonomy and Individual Rights |\n",
        "| CL | Civil Liberties Scores |\n",
        "| Status | F=Free, PF=Partly Free, NF=Not Free |\n",
        "\n",
        "\n",
        "###`Q-1` Find out top 10 countries' which have maximum A and D values.\n",
        "\n",
        "\n",
        "###`Q-2` Find out highest CL value for 2020 for every region. Also sort the result in descending order. Also display the CL values in descending order."
      ],
      "metadata": {
        "id": "kbYXPYQ4pVyp"
      }
    },
    {
      "cell_type": "code",
      "source": [
        "\n",
        "-- 1\n",
        "SELECT A.country,A,D FROM (SELECT country,A FROM country_ab ORDER BY A DESC limit 10) A\n",
        "LEFT JOIN\n",
        "(SELECT country,D FROM country_cd ORDER BY D DESC LIMIT 10) B\n",
        "ON A.country=B.country\n",
        "UNION\n",
        "SELECT B.country,A,D FROM (SELECT country,A FROM  country_ab ORDER BY A DESC LIMIT 10) A\n",
        "RIGHT JOIN\n",
        "(SELECT country,D FROM country_cd ORDER BY D DESC LIMIT 10) B\n",
        "ON A.country=B.country\n",
        "ORDER BY country;\n",
        "\n",
        "\n",
        "\n",
        "-- 2\n",
        "SELECT Region,MAX(CL) from country_cl t1\n",
        "join country_ab t2\n",
        "ON t1.country=t2.country\n",
        "WHERE t1.Edition=2020\n",
        "GROUP BY Region\n",
        "ORDER BY MAX(CL) DESC;"
      ],
      "metadata": {
        "id": "-s_pPg_1pWyQ"
      },
      "execution_count": null,
      "outputs": []
    },
    {
      "cell_type": "markdown",
      "source": [
        "## Dataset\n",
        "Data Link-> https://drive.google.com/drive/folders/1bGgNTDy5L_IodNcGHdB_SNCkUI5MUjmY?usp=share_link\n",
        "Four Tables:\n",
        "* Customer\n",
        "* Employee\n",
        "* Sales\n",
        "* Products\n",
        "\n",
        "###`Q-3` Find top-5 most sold products.\n",
        "\n",
        "### `Q-4:` Find sales man who sold most no of products.\n",
        "\n",
        "### `Q-5:` Sales man name who has most no of unique customer.\n",
        "\n",
        "###`Q-6:` Sales man who has generated most revenue. Show top 5.\n",
        "\n",
        "###`Q-7:` List all customers who have made more than 10 purchases.\n",
        "\n",
        "### `Q-8` : List all salespeople who have made sales to more than 5 customers.\n",
        "\n",
        "### `Q-9:` List all pairs of customers who have made purchases with the same salesperson.\n",
        "\n"
      ],
      "metadata": {
        "id": "62JBrjrmpcn-"
      }
    },
    {
      "cell_type": "code",
      "source": [
        "-- 3\n",
        "SELECT Name,SUM(Quantity) AS 'total_quantity'  from sales1 t1\n",
        "JOIN products t2\n",
        "ON t1.ProductID=t2.ProductID\n",
        "GROUP BY t1.ProductID\n",
        "ORDER BY total_quantity DESC LIMIT 5;\n",
        "\n",
        "\n",
        "-- 4\n",
        "SELECT t1.SalesPersonID,FirstName,LastName,SUM(Quantity) AS 'num_sold'  FROM sales1 t1\n",
        "JOIN employees t2\n",
        "ON t1.SalesPersonID=t2.EmployeeID\n",
        "GROUP BY t1.SalesPersonID\n",
        "ORDER  BY num_sold DESC LIMIT 5;\n",
        "\n",
        "\n",
        "-- 5\n",
        "SELECT t1.SalesPersonID,FirstName,LastName,COUNT(DISTINCT CustomerID)\n",
        "AS 'unique_customer' FROM sales1 t1\n",
        "JOIN employees t2\n",
        "ON t1.SalesPersonID=t2.EmployeeID\n",
        "GROUP BY t1.SalesPersonID\n",
        "ORDER BY unique_customer DESC LIMIT 5;\n",
        "\n",
        "\n",
        "-- 6\n",
        "SELECT t1.salesPersonID,t3.FirstName,t3.LastName,\n",
        "ROUND(SUM(t1.Quantity * t2.Price)) AS 'total_revenue'\n",
        "FROM sales1 t1\n",
        "JOIN products t2\n",
        "ON t1.ProductID=t2.ProductID\n",
        "JOIN employees t3\n",
        "ON t1.SalesPersonID=t3.EmployeeID\n",
        "GROUP BY t1.SalesPersonID\n",
        "ORDER BY total_revenue  DESC LIMIT 5;\n",
        "\n",
        "-- 7\n",
        "SELECT t1.CustomerID,t2.FirstName,t2.LastName,COUNT(*)  from sales1 t1\n",
        "JOIN customers t2\n",
        "ON t1.CustomerID=t2.CustomerID\n",
        "GROUP BY t1.CustomerID\n",
        "HAVING COUNT(*)>10;\n",
        "\n",
        "-- 8\n",
        "SELECT t1.SalesPersonID,FirstName,LastName,COUNT(DISTINCT CustomerID) AS 'unique_customers' FROM sales1 t1\n",
        "JOIN employees t2\n",
        "ON t1.SalesPersonID = t2.EmployeeID\n",
        "GROUP BY t1.SalesPersonID\n",
        "HAVING unique_customers > 5;\n",
        "\n",
        "-- 9\n",
        "SELECT *\n",
        "FROM (SELECT DISTINCT t1.CustomerID AS 'first_customer',\n",
        "t2.CustomerID AS 'second_customer',\n",
        "t1.SalesPersonID\n",
        "FROM sales1 t1\n",
        "JOIN sales1 t2\n",
        "ON t1.SalesPersonID = t2.SalesPersonID\n",
        "AND t1.CustomerID != t2.CustomerID) A\n",
        "JOIN customers B\n",
        "ON A.first_customer = B.customerID\n",
        "LEFT JOIN customers C\n",
        "ON A.second_customer = C.CustomerID\n",
        "LEFT JOIN employees D\n",
        "ON A.SalesPersonID = D.EmployeeID;"
      ],
      "metadata": {
        "id": "VA90jn6Zpznc"
      },
      "execution_count": null,
      "outputs": []
    }
  ]
}