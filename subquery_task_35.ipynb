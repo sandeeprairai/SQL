{
  "nbformat": 4,
  "nbformat_minor": 0,
  "metadata": {
    "colab": {
      "provenance": []
    },
    "kernelspec": {
      "name": "python3",
      "display_name": "Python 3"
    },
    "language_info": {
      "name": "python"
    }
  },
  "cells": [
    {
      "cell_type": "code",
      "execution_count": null,
      "metadata": {
        "id": "sZvdtc0POCch"
      },
      "outputs": [],
      "source": []
    },
    {
      "cell_type": "markdown",
      "source": [
        "# SQL SubQuery\n",
        "## How to load the dataset(s) to SQL?\n",
        "Using Python, you can load the large datasets to MySQL database very easily. For that follow the below steps.\n",
        "\n",
        "- First create a database in your local machine server.\n",
        "\n",
        "```sql\n",
        "CREATE DATABASE <database_name>\n",
        "```\n",
        "\n",
        "- Next, use Python to load the database\n",
        "\n",
        "```python\n",
        "import pandas as pd\n",
        "from sqlalchemy import create_engine\n",
        "\n",
        "df = pd.read_csv(\"file/path/to/the/database.csv\")\n",
        "\n",
        "engine = create_engine(\"mysql+pymysql://<db_username>:<db_password>@<hostname>/<database_name>\")\n",
        "df.to_sql(\"<table_name>\", con=engine)\n",
        "```\n",
        "\n",
        "## Problems 1-6\n",
        "\n",
        "For problems 1 to 6, use the Olympic dataset. You can get that from [here](https://drive.google.com/file/d/1EGIRBkbQGByJPvCqDtxtTnXv93oGunFp/view?usp=share_link).\n",
        "\n",
        "**Column description:**\n",
        "1. ID -> ID of every records to our dataset. It has integer datatype.\n",
        "2. Name -> Name of the athletes.\n",
        "3. Sex -> Gender of the athletes.\n",
        "4. Height -> Height of the athletes\n",
        "5. Weight -> Weight of the athletes\n",
        "6. NOC -> In which country, the athletes belong to. This is actually the country code.\n",
        "7. Year -> In which year, the athlete has participated\n",
        "8. Sport -> What is the sport name in which the athlete participated.\n",
        "9. Event -> Event name of the sport\n",
        "10. Medal -> Which medal the athlege got. If the athlete did not get any medal then this cell is blank.\n",
        "11. country -> The name of the country."
      ],
      "metadata": {
        "id": "NLmTBdPfOKCI"
      }
    },
    {
      "cell_type": "markdown",
      "source": [
        "### Problem 1\n",
        "\n",
        "Display the names of athletes who won a gold medal in the 2008 Olympics and whose height is greater than the average height of all athletes in the 2008 Olympics.\n",
        "\n",
        "\n",
        "### Problem 2\n",
        "\n",
        "Display the names of athletes who won a medal in the sport of basketball in the 2016 Olympics and whose weight is less than the average weight of all athletes who won a medal in the 2016 Olympics.\n",
        "\n",
        "\n",
        "\n",
        "### Problem 3\n",
        "\n",
        "Display the names of all athletes who have won a medal in the sport of swimming in both the 2008 and 2016 Olympics.\n",
        "\n",
        "\n",
        "\n",
        "### Problem 4\n",
        "\n",
        "Display the names of all countries that have won more than 50 medals in a single year.\n",
        "\n",
        "\n",
        "\n",
        "### Problem 5\n",
        "\n",
        "Display the names of all athletes who have won medals in more than one sport in the same year.\n",
        "\n",
        "\n",
        "\n",
        "### Problem 6\n",
        "\n",
        "What is the average weight difference between male and female athletes in the Olympics who have won a medal in the same event?"
      ],
      "metadata": {
        "id": "slnSOsPQOMFm"
      }
    },
    {
      "cell_type": "code",
      "source": [
        "-- 1\n",
        "select * from subquery_task.olympic\n",
        "where Year=2008 and\n",
        "Medal='Gold' and\n",
        "Height>(select avg(Height) from olympic where Year=2008);\n",
        "\n",
        "\n",
        "-- 2\n",
        "select * from olympic\n",
        "where Year=2016 and\n",
        "Sport='Basketball' and\n",
        "Medal is not null and\n",
        "Height < (select avg(Height) from olympic where Year=2016\n",
        "and Medal is not null);\n",
        "\n",
        "-- 3\n",
        "select * from olympic\n",
        "where Sport='Swimming' and\n",
        "Year in (2008,2016) and\n",
        "Medal is not null;\n",
        "\n",
        "-- 4\n",
        "select country,Year,count(*) from olympic\n",
        "where  Medal is not null and country is not null\n",
        "group by country,Year\n",
        "having count(*) > 50\n",
        "order by Year,country;\n",
        "\n",
        "-- 5\n",
        "select distinct name from olympic\n",
        "where ID in (select distinct ID from olympic\n",
        "     where Medal is not null\n",
        "     group by ID,Year,Sport\n",
        "     having count(Medal) > 1\n",
        "     order by Count(Medal) desc);\n",
        "\n",
        "\n",
        "\n",
        "-- 6\n",
        "WITH result AS (\n",
        "\tSELECT * FROM subquery_task.olympic\n",
        "\tWHERE Medal IS NOT NULL\n",
        ")\n",
        "SELECT AVG(A.Weight - B.Weight) FROM result A\n",
        "JOIN result B\n",
        "ON A.Event = B.Event\n",
        "ANd A.Sex != B.Sex;\n",
        "\n",
        "\n",
        "\n",
        "\n",
        "\n",
        "\n"
      ],
      "metadata": {
        "id": "aFr6SMoAOLJ2"
      },
      "execution_count": null,
      "outputs": []
    },
    {
      "cell_type": "markdown",
      "source": [
        "## Problem 7 - 10\n",
        "\n",
        "Use the health insurance dataset. You can get the dataset as well as the description of the dataset [here](https://www.kaggle.com/datasets/thedevastator/insurance-claim-analysis-demographic-and-health)."
      ],
      "metadata": {
        "id": "9RFThGnIOYec"
      }
    },
    {
      "cell_type": "markdown",
      "source": [
        "### Problem 7\n",
        "\n",
        "How many patients have claimed more than the average claim amount for patients who are smokers and have at least one child, and belong to the southeast region?\n",
        "\n",
        "\n",
        "### Problem 8\n",
        "\n",
        "How many patients have claimed more than the average claim amount for patients who are not smokers and have a BMI greater than the average BMI for patients who have at least one child?\n",
        "\n",
        "\n",
        "\n",
        "### Problem 9\n",
        "\n",
        "How many patients have claimed more than the average claim amount for patients who have a BMI greater than the average BMI for patients who are diabetic, have at least one child, and are from the southwest region?\n",
        "\n",
        "\n",
        "### Problem 10:\n",
        "\n",
        "What is the difference in the average claim amount between patients who are smokers and patients who are non-smokers, and have the same BMI and number of children?"
      ],
      "metadata": {
        "id": "WM6f8f9eOl_t"
      }
    },
    {
      "cell_type": "code",
      "source": [
        "-- 7\n",
        "select count(Claim) from campusx.insurance_data\n",
        "where claim > (select avg(Claim) from insurance_data\n",
        "            where smoker='Yes' and\n",
        "            region='southwest' and\n",
        "            children >=1);\n",
        "\n",
        "-- 8\n",
        "select count(Claim) from insurance_data\n",
        "where Claim > (select avg(Claim) from insurance_data\n",
        "              where smoker='No' and\n",
        "              bmi > (select avg(bmi) from insurance_data\n",
        "              where children >=1));\n",
        "\n",
        "-- 9\n",
        "select count(Claim) from insurance_data\n",
        "where Claim > (select avg(Claim) from insurance_data\n",
        "            where bmi > (select avg(bmi) from insurance_data\n",
        "              where children >=1 and\n",
        "              diabetic='Yes' and\n",
        "              region='southwest'));\n",
        "\n",
        "\n",
        "-- 10\n",
        "select avg(A.Claim- B.Claim) as 'avg_claim' from insurance_data A\n",
        "join insurance_data B\n",
        "on A.bmi=B.bmi\n",
        "and A.smoker!=B.smoker\n",
        "and A.children=B.children;\n",
        "\n"
      ],
      "metadata": {
        "id": "hKdiVL-iOjJV"
      },
      "execution_count": null,
      "outputs": []
    },
    {
      "cell_type": "code",
      "source": [],
      "metadata": {
        "id": "J-KrkCn7TUsG"
      },
      "execution_count": null,
      "outputs": []
    },
    {
      "cell_type": "code",
      "source": [],
      "metadata": {
        "id": "mphXnJBzTUES"
      },
      "execution_count": null,
      "outputs": []
    }
  ]
}